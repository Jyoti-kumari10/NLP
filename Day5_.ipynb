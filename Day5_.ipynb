{
 "cells": [
  {
   "cell_type": "code",
   "execution_count": 1,
   "id": "d5b34e67",
   "metadata": {},
   "outputs": [
    {
     "name": "stderr",
     "output_type": "stream",
     "text": [
      "[nltk_data] Downloading package punkt to\n",
      "[nltk_data]     C:\\Users\\navan\\AppData\\Roaming\\nltk_data...\n",
      "[nltk_data]   Package punkt is already up-to-date!\n"
     ]
    },
    {
     "data": {
      "text/plain": [
       "True"
      ]
     },
     "execution_count": 1,
     "metadata": {},
     "output_type": "execute_result"
    }
   ],
   "source": [
    "import nltk\n",
    "nltk.download(\"punkt\")"
   ]
  },
  {
   "cell_type": "code",
   "execution_count": 2,
   "id": "d4fbea3d",
   "metadata": {},
   "outputs": [
    {
     "name": "stdout",
     "output_type": "stream",
     "text": [
      "ML can be seen as a time-saving device that allows humans to explore their more creative ambitions while ML is in the background crunching numbers\n"
     ]
    }
   ],
   "source": [
    "string = \"ML can be seen as a time-saving device that allows humans to explore their more creative ambitions while ML is in the background crunching numbers\"\n",
    "print(string)"
   ]
  },
  {
   "cell_type": "code",
   "execution_count": 3,
   "id": "165858d5",
   "metadata": {},
   "outputs": [
    {
     "data": {
      "text/plain": [
       "['ML',\n",
       " 'can',\n",
       " 'be',\n",
       " 'seen',\n",
       " 'as',\n",
       " 'a',\n",
       " 'time-saving',\n",
       " 'device',\n",
       " 'that',\n",
       " 'allows',\n",
       " 'humans',\n",
       " 'to',\n",
       " 'explore',\n",
       " 'their',\n",
       " 'more',\n",
       " 'creative',\n",
       " 'ambitions',\n",
       " 'while',\n",
       " 'ML',\n",
       " 'is',\n",
       " 'in',\n",
       " 'the',\n",
       " 'background',\n",
       " 'crunching',\n",
       " 'numbers']"
      ]
     },
     "execution_count": 3,
     "metadata": {},
     "output_type": "execute_result"
    }
   ],
   "source": [
    "ml_tokens = nltk.word_tokenize(string)\n",
    "ml_tokens"
   ]
  },
  {
   "cell_type": "code",
   "execution_count": 4,
   "id": "8bf9ed32",
   "metadata": {},
   "outputs": [
    {
     "name": "stderr",
     "output_type": "stream",
     "text": [
      "[nltk_data] Downloading package averaged_perceptron_tagger to\n",
      "[nltk_data]     C:\\Users\\navan\\AppData\\Roaming\\nltk_data...\n",
      "[nltk_data]   Unzipping taggers\\averaged_perceptron_tagger.zip.\n"
     ]
    },
    {
     "data": {
      "text/plain": [
       "True"
      ]
     },
     "execution_count": 4,
     "metadata": {},
     "output_type": "execute_result"
    }
   ],
   "source": [
    "nltk.download(\"averaged_perceptron_tagger\")"
   ]
  },
  {
   "cell_type": "code",
   "execution_count": 5,
   "id": "2c417b01",
   "metadata": {},
   "outputs": [
    {
     "name": "stdout",
     "output_type": "stream",
     "text": [
      "ML : [('ML', 'NN')]\n",
      "can : [('can', 'MD')]\n",
      "be : [('be', 'VB')]\n",
      "seen : [('seen', 'VBN')]\n",
      "as : [('as', 'IN')]\n",
      "a : [('a', 'DT')]\n",
      "time-saving : [('time-saving', 'NN')]\n",
      "device : [('device', 'NN')]\n",
      "that : [('that', 'IN')]\n",
      "allows : [('allows', 'NNS')]\n",
      "humans : [('humans', 'NNS')]\n",
      "to : [('to', 'TO')]\n",
      "explore : [('explore', 'NN')]\n",
      "their : [('their', 'PRP$')]\n",
      "more : [('more', 'RBR')]\n",
      "creative : [('creative', 'JJ')]\n",
      "ambitions : [('ambitions', 'NNS')]\n",
      "while : [('while', 'IN')]\n",
      "ML : [('ML', 'NN')]\n",
      "is : [('is', 'VBZ')]\n",
      "in : [('in', 'IN')]\n",
      "the : [('the', 'DT')]\n",
      "background : [('background', 'NN')]\n",
      "crunching : [('crunching', 'VBG')]\n",
      "numbers : [('numbers', 'NNS')]\n"
     ]
    }
   ],
   "source": [
    "for token in ml_tokens:\n",
    "    print(f\"{token} : {nltk.pos_tag([token])}\")"
   ]
  },
  {
   "cell_type": "code",
   "execution_count": 6,
   "id": "2261f73c",
   "metadata": {},
   "outputs": [
    {
     "name": "stdout",
     "output_type": "stream",
     "text": [
      "[('Jim', 'NNP')]\n",
      "[('eats', 'NNS')]\n",
      "[('a', 'DT')]\n",
      "[('banana', 'NN')]\n"
     ]
    }
   ],
   "source": [
    "sent= \"Jim eats a banana\"\n",
    "tokens = nltk.word_tokenize(sent)\n",
    "for token in tokens:\n",
    "  print(nltk.pos_tag([token]))\n",
    "\n",
    "# Ambiguity: Words can have multiple meanings and functions. For instance, the word \n",
    "# \"bat\" can be a noun (a flying mammal) or a verb (to hit). POS tagging might misclassify such words if the context isn't clear.\n",
    "\n",
    "# Lack of Semantics: POS tagging focuses on grammatical categories but does not capture the meaning of the words or their relationships within a sentence."
   ]
  },
  {
   "cell_type": "code",
   "execution_count": 7,
   "id": "40b240fe",
   "metadata": {},
   "outputs": [
    {
     "data": {
      "text/plain": [
       "[('Jim', 'NNP'),\n",
       " (' ', 'NNP'),\n",
       " ('eats', 'VBZ'),\n",
       " (' ', 'VBP'),\n",
       " ('a', 'DT'),\n",
       " (' ', 'NN'),\n",
       " ('banana', 'NN')]"
      ]
     },
     "execution_count": 7,
     "metadata": {},
     "output_type": "execute_result"
    }
   ],
   "source": [
    "# Pattern Definition: You define a regex pattern that specifies the rules for tokenization. For example, you might want to split text on whitespace,\n",
    "# punctuation, or specific character sequences.\n",
    "\n",
    "from nltk.tokenize import RegexpTokenizer\n",
    "reg_tokenizer = RegexpTokenizer('(?u)\\W+|\\$[\\d\\.]+|\\S+')\n",
    "regextokens = reg_tokenizer.tokenize(sent)\n",
    "regextags = nltk.pos_tag(regextokens)\n",
    "regextags\n",
    "\n",
    "(?u): This is a Unicode flag that makes the regex engine treat the string as Unicode.\n",
    "\n",
    "\\W+:\n",
    "\n",
    "\\W matches any non-word character (i.e., anything that is not a letter, digit, or underscore).\n",
    "The + indicates that one or more occurrences of non-word characters should be matched.\n",
    "This part of the pattern effectively splits the text at any sequence of non-word characters (e.g., spaces, punctuation).\n",
    "\n",
    "\\$[\\d\\.]+:\n",
    "\n",
    "\\$ matches the dollar sign ($). The backslash is used to escape the dollar sign because it has special meaning in regex.\n",
    "[\\d\\.]+ matches one or more digits (\\d) or periods (.), which is useful for matching monetary values (e.g., $10.50).\n",
    "This part of the pattern allows the tokenizer to recognize dollar amounts as individual tokens.\n",
    "    \n",
    "\\S+:\n",
    "\n",
    "\\S matches any non-whitespace character.\n",
    "The + indicates that one or more occurrences of non-whitespace characters should be matched.\n",
    "This part captures words or other sequences of characters that are not split by spaces or punctuation."
   ]
  },
  {
   "cell_type": "code",
   "execution_count": 8,
   "id": "bd115c10",
   "metadata": {},
   "outputs": [],
   "source": [
    "from nltk.corpus import stopwords"
   ]
  },
  {
   "cell_type": "code",
   "execution_count": 9,
   "id": "05b029cb",
   "metadata": {},
   "outputs": [
    {
     "data": {
      "text/plain": [
       "['i',\n",
       " 'me',\n",
       " 'my',\n",
       " 'myself',\n",
       " 'we',\n",
       " 'our',\n",
       " 'ours',\n",
       " 'ourselves',\n",
       " 'you',\n",
       " \"you're\",\n",
       " \"you've\",\n",
       " \"you'll\",\n",
       " \"you'd\",\n",
       " 'your',\n",
       " 'yours',\n",
       " 'yourself',\n",
       " 'yourselves',\n",
       " 'he',\n",
       " 'him',\n",
       " 'his',\n",
       " 'himself',\n",
       " 'she',\n",
       " \"she's\",\n",
       " 'her',\n",
       " 'hers',\n",
       " 'herself',\n",
       " 'it',\n",
       " \"it's\",\n",
       " 'its',\n",
       " 'itself',\n",
       " 'they',\n",
       " 'them',\n",
       " 'their',\n",
       " 'theirs',\n",
       " 'themselves',\n",
       " 'what',\n",
       " 'which',\n",
       " 'who',\n",
       " 'whom',\n",
       " 'this',\n",
       " 'that',\n",
       " \"that'll\",\n",
       " 'these',\n",
       " 'those',\n",
       " 'am',\n",
       " 'is',\n",
       " 'are',\n",
       " 'was',\n",
       " 'were',\n",
       " 'be',\n",
       " 'been',\n",
       " 'being',\n",
       " 'have',\n",
       " 'has',\n",
       " 'had',\n",
       " 'having',\n",
       " 'do',\n",
       " 'does',\n",
       " 'did',\n",
       " 'doing',\n",
       " 'a',\n",
       " 'an',\n",
       " 'the',\n",
       " 'and',\n",
       " 'but',\n",
       " 'if',\n",
       " 'or',\n",
       " 'because',\n",
       " 'as',\n",
       " 'until',\n",
       " 'while',\n",
       " 'of',\n",
       " 'at',\n",
       " 'by',\n",
       " 'for',\n",
       " 'with',\n",
       " 'about',\n",
       " 'against',\n",
       " 'between',\n",
       " 'into',\n",
       " 'through',\n",
       " 'during',\n",
       " 'before',\n",
       " 'after',\n",
       " 'above',\n",
       " 'below',\n",
       " 'to',\n",
       " 'from',\n",
       " 'up',\n",
       " 'down',\n",
       " 'in',\n",
       " 'out',\n",
       " 'on',\n",
       " 'off',\n",
       " 'over',\n",
       " 'under',\n",
       " 'again',\n",
       " 'further',\n",
       " 'then',\n",
       " 'once',\n",
       " 'here',\n",
       " 'there',\n",
       " 'when',\n",
       " 'where',\n",
       " 'why',\n",
       " 'how',\n",
       " 'all',\n",
       " 'any',\n",
       " 'both',\n",
       " 'each',\n",
       " 'few',\n",
       " 'more',\n",
       " 'most',\n",
       " 'other',\n",
       " 'some',\n",
       " 'such',\n",
       " 'no',\n",
       " 'nor',\n",
       " 'not',\n",
       " 'only',\n",
       " 'own',\n",
       " 'same',\n",
       " 'so',\n",
       " 'than',\n",
       " 'too',\n",
       " 'very',\n",
       " 's',\n",
       " 't',\n",
       " 'can',\n",
       " 'will',\n",
       " 'just',\n",
       " 'don',\n",
       " \"don't\",\n",
       " 'should',\n",
       " \"should've\",\n",
       " 'now',\n",
       " 'd',\n",
       " 'll',\n",
       " 'm',\n",
       " 'o',\n",
       " 're',\n",
       " 've',\n",
       " 'y',\n",
       " 'ain',\n",
       " 'aren',\n",
       " \"aren't\",\n",
       " 'couldn',\n",
       " \"couldn't\",\n",
       " 'didn',\n",
       " \"didn't\",\n",
       " 'doesn',\n",
       " \"doesn't\",\n",
       " 'hadn',\n",
       " \"hadn't\",\n",
       " 'hasn',\n",
       " \"hasn't\",\n",
       " 'haven',\n",
       " \"haven't\",\n",
       " 'isn',\n",
       " \"isn't\",\n",
       " 'ma',\n",
       " 'mightn',\n",
       " \"mightn't\",\n",
       " 'mustn',\n",
       " \"mustn't\",\n",
       " 'needn',\n",
       " \"needn't\",\n",
       " 'shan',\n",
       " \"shan't\",\n",
       " 'shouldn',\n",
       " \"shouldn't\",\n",
       " 'wasn',\n",
       " \"wasn't\",\n",
       " 'weren',\n",
       " \"weren't\",\n",
       " 'won',\n",
       " \"won't\",\n",
       " 'wouldn',\n",
       " \"wouldn't\"]"
      ]
     },
     "execution_count": 9,
     "metadata": {},
     "output_type": "execute_result"
    }
   ],
   "source": [
    "stop_w = stopwords.words(\"english\")\n",
    "stop_w"
   ]
  },
  {
   "cell_type": "code",
   "execution_count": 10,
   "id": "86590290",
   "metadata": {},
   "outputs": [
    {
     "name": "stdout",
     "output_type": "stream",
     "text": [
      "['ML', 'can', 'be', 'seen', 'as', 'a', 'time-saving', 'device', 'that', 'allows', 'humans', 'to', 'explore', 'their', 'more', 'creative', 'ambitions', 'while', 'ML', 'is', 'in', 'the', 'background', 'crunching', 'numbers']\n"
     ]
    }
   ],
   "source": [
    "string = \"ML can be seen as a time-saving device that allows humans to explore their more creative ambitions while ML is in the background crunching numbers\"\n",
    "ML_tokens=nltk.word_tokenize(string)\n",
    "print(ML_tokens)"
   ]
  },
  {
   "cell_type": "code",
   "execution_count": 11,
   "id": "3c184d0d",
   "metadata": {},
   "outputs": [
    {
     "data": {
      "text/plain": [
       "['ML',\n",
       " 'seen',\n",
       " 'time-saving',\n",
       " 'device',\n",
       " 'allows',\n",
       " 'humans',\n",
       " 'explore',\n",
       " 'creative',\n",
       " 'ambitions',\n",
       " 'ML',\n",
       " 'background',\n",
       " 'crunching',\n",
       " 'numbers']"
      ]
     },
     "execution_count": 11,
     "metadata": {},
     "output_type": "execute_result"
    }
   ],
   "source": [
    "filtered_data = [w for w in ML_tokens if not w in stop_w]\n",
    "filtered_data"
   ]
  },
  {
   "cell_type": "code",
   "execution_count": 2,
   "id": "b25c7d29",
   "metadata": {},
   "outputs": [
    {
     "name": "stdout",
     "output_type": "stream",
     "text": [
      "Synset('peer.n.01')\n",
      "Synset('match.n.05')\n"
     ]
    }
   ],
   "source": [
    "from nltk.wsd import lesk\n",
    "from nltk.tokenize import word_tokenize\n",
    "\n",
    "sent1 = \"she is looking for a match\"\n",
    "sent2 = \"Yesterday's football match was exciting\"\n",
    "print (lesk(word_tokenize(sent1), 'match'))\n",
    "print (lesk(word_tokenize(sent2), 'match'))"
   ]
  },
  {
   "cell_type": "code",
   "execution_count": null,
   "id": "c9ee5a42-c9fb-4655-b452-ea8a1a258909",
   "metadata": {},
   "outputs": [],
   "source": []
  }
 ],
 "metadata": {
  "kernelspec": {
   "display_name": "Python 3 (ipykernel)",
   "language": "python",
   "name": "python3"
  },
  "language_info": {
   "codemirror_mode": {
    "name": "ipython",
    "version": 3
   },
   "file_extension": ".py",
   "mimetype": "text/x-python",
   "name": "python",
   "nbconvert_exporter": "python",
   "pygments_lexer": "ipython3",
   "version": "3.11.7"
  }
 },
 "nbformat": 4,
 "nbformat_minor": 5
}
